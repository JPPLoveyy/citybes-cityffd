{
 "cells": [
  {
   "cell_type": "code",
   "execution_count": 1,
   "metadata": {},
   "outputs": [],
   "source": [
    "import os, sys, csv, json, re\n",
    "import numpy as np\n",
    "import pandas as pd"
   ]
  },
  {
   "cell_type": "code",
   "execution_count": 2,
   "metadata": {},
   "outputs": [],
   "source": [
    "work_folder = 'SF_100'\n",
    "scene_folder = 'scene-json'\n",
    "blue_nodes = {}\n",
    "with open(os.path.join(scene_folder, 'meta', 'blue_nodes_97_new.json'), 'r') as f:\n",
    "    cityffd_meta = json.load(f)\n",
    "    for node in cityffd_meta:\n",
    "        node_id = node['id']\n",
    "        blue_nodes[node_id] = node['properties']['centroid']"
   ]
  },
  {
   "cell_type": "code",
   "execution_count": 3,
   "metadata": {},
   "outputs": [
    {
     "data": {
      "text/plain": [
       "3303"
      ]
     },
     "execution_count": 3,
     "metadata": {},
     "output_type": "execute_result"
    }
   ],
   "source": [
    "len(blue_nodes)"
   ]
  },
  {
   "cell_type": "code",
   "execution_count": 4,
   "metadata": {},
   "outputs": [],
   "source": [
    "import math\n",
    "mapping_json = {}\n",
    "mapping_json['features'] = []\n",
    "with open(os.path.join(scene_folder, 'meta', 'sf_dt_98_red_nodes_data_exchanges.json'), 'r') as f:\n",
    "    eplus_meta = json.load(f)\n",
    "    for bldg in eplus_meta['features']:\n",
    "        bldg_id = bldg['id']\n",
    "        mapping_json_bldg = {}\n",
    "        mapping_json_bldg['id'] = bldg_id\n",
    "        mapping_json_bldg['properties'] = {}\n",
    "        mapping_json_bldg['properties']['objects'] = []\n",
    "        for surf in bldg['properties']['objects']:\n",
    "            distance = -1\n",
    "            blue_node = None\n",
    "            surf_id = surf['id']\n",
    "            mapping_json_surf = {}\n",
    "            red_coord = surf['properties']['centroid']\n",
    "            for blue_node_id in blue_nodes:\n",
    "                blue_coord = blue_nodes[blue_node_id]\n",
    "                curr_dis = math.sqrt((blue_coord[0] - red_coord[0]) ** 2 +\n",
    "                                     (blue_coord[1] - red_coord[1]) ** 2 +\n",
    "                                     (blue_coord[2] - red_coord[2]) ** 2)\n",
    "                if distance == -1 or curr_dis < distance:\n",
    "                    distance = curr_dis\n",
    "                    blue_node = blue_node_id\n",
    "#             print(blue_node, distance)\n",
    "            mapping_json_surf['id'] = surf_id\n",
    "            mapping_json_surf['properties'] = {}\n",
    "            mapping_json_surf['properties']['cityffd_id'] = blue_node\n",
    "            mapping_json_bldg['properties']['objects'].append(mapping_json_surf)\n",
    "            \n",
    "        mapping_json['features'].append(mapping_json_bldg)\n",
    "    file = open(os.path.join(scene_folder, 'meta', 'sf_dt_97_mapping.json'), 'w')\n",
    "    file.write(json.dumps(mapping_json, indent=2))\n",
    "    file.close()"
   ]
  },
  {
   "cell_type": "code",
   "execution_count": null,
   "metadata": {},
   "outputs": [],
   "source": []
  }
 ],
 "metadata": {
  "kernelspec": {
   "display_name": "Python 3",
   "language": "python",
   "name": "python3"
  },
  "language_info": {
   "codemirror_mode": {
    "name": "ipython",
    "version": 3
   },
   "file_extension": ".py",
   "mimetype": "text/x-python",
   "name": "python",
   "nbconvert_exporter": "python",
   "pygments_lexer": "ipython3",
   "version": "3.8.3"
  },
  "toc": {
   "base_numbering": 1,
   "nav_menu": {},
   "number_sections": true,
   "sideBar": true,
   "skip_h1_title": false,
   "title_cell": "Table of Contents",
   "title_sidebar": "Contents",
   "toc_cell": false,
   "toc_position": {},
   "toc_section_display": true,
   "toc_window_display": false
  }
 },
 "nbformat": 4,
 "nbformat_minor": 2
}
