{
 "cells": [
  {
   "cell_type": "code",
   "execution_count": 1,
   "metadata": {},
   "outputs": [],
   "source": [
    "import os, sys, csv, json, re\n",
    "import parseidf\n",
    "import numpy as np\n",
    "import pandas as pd\n",
    "import matplotlib.pyplot as plt\n",
    "import seaborn as sns\n",
    "%matplotlib inline"
   ]
  },
  {
   "cell_type": "markdown",
   "metadata": {},
   "source": [
    "## Read Red Nodes and Mapping file"
   ]
  },
  {
   "cell_type": "code",
   "execution_count": 4,
   "metadata": {},
   "outputs": [
    {
     "data": {
      "text/plain": [
       "3303"
      ]
     },
     "execution_count": 4,
     "metadata": {},
     "output_type": "execute_result"
    }
   ],
   "source": [
    "work_folder = 'san-francisco'\n",
    "scene_folder = 'scene-json'\n",
    "\n",
    "surf_id_to_name = {}\n",
    "with open(os.path.join(scene_folder, 'meta', 'sf_dt_98_red_nodes_data_exchanges.json'), 'r') as f:\n",
    "    eplus_meta = json.load(f)\n",
    "    for bldg in eplus_meta['features']:\n",
    "        bldg_id = bldg['id']\n",
    "        for surf in bldg['properties']['objects']:\n",
    "            surf_id = bldg_id + ':' + surf['id']\n",
    "            surf_name = surf['properties']['name']\n",
    "            surf_id_to_name[surf_id] = bldg_id + ':' + surf_name\n",
    "len(surf_id_to_name)"
   ]
  },
  {
   "cell_type": "code",
   "execution_count": 5,
   "metadata": {},
   "outputs": [
    {
     "data": {
      "text/plain": [
       "3303"
      ]
     },
     "execution_count": 5,
     "metadata": {},
     "output_type": "execute_result"
    }
   ],
   "source": [
    "surf_name_to_wrf_id = {}\n",
    "with open(os.path.join(scene_folder, 'meta', 'sf_dt_97_mapping.json'), 'r') as f_map:\n",
    "    eplus_mapping = json.load(f_map)\n",
    "    for bldg in eplus_mapping['features']:\n",
    "        bldg_id = bldg['id']\n",
    "        for surf in bldg['properties']['objects']:\n",
    "            surf_id = bldg_id + ':' + surf['id']\n",
    "            wrf_id = surf['properties']['cityffd_id']\n",
    "            surf_name_to_wrf_id[surf_id_to_name[surf_id]] = wrf_id\n",
    "            \n",
    "len(surf_name_to_wrf_id)"
   ]
  },
  {
   "cell_type": "code",
   "execution_count": 6,
   "metadata": {},
   "outputs": [
    {
     "data": {
      "text/plain": [
       "2809"
      ]
     },
     "execution_count": 6,
     "metadata": {},
     "output_type": "execute_result"
    }
   ],
   "source": [
    "surf_name_to_wrf_id['bldg_3981165_1754:S2-office-core-wall-7']"
   ]
  },
  {
   "cell_type": "code",
   "execution_count": 7,
   "metadata": {},
   "outputs": [
    {
     "data": {
      "text/plain": [
       "2834"
      ]
     },
     "execution_count": 7,
     "metadata": {},
     "output_type": "execute_result"
    }
   ],
   "source": [
    "surf_name_to_wrf_id['bldg_3981165_1754:S6-office-core-roof']"
   ]
  },
  {
   "cell_type": "markdown",
   "metadata": {},
   "source": [
    "## Read CSV schedule for this round"
   ]
  },
  {
   "cell_type": "code",
   "execution_count": 8,
   "metadata": {},
   "outputs": [
    {
     "data": {
      "text/html": [
       "<div>\n",
       "<style scoped>\n",
       "    .dataframe tbody tr th:only-of-type {\n",
       "        vertical-align: middle;\n",
       "    }\n",
       "\n",
       "    .dataframe tbody tr th {\n",
       "        vertical-align: top;\n",
       "    }\n",
       "\n",
       "    .dataframe thead th {\n",
       "        text-align: right;\n",
       "    }\n",
       "</style>\n",
       "<table border=\"1\" class=\"dataframe\">\n",
       "  <thead>\n",
       "    <tr style=\"text-align: right;\">\n",
       "      <th></th>\n",
       "      <th>drybulb:1</th>\n",
       "      <th>wind_speed:1</th>\n",
       "      <th>wind_dir:1</th>\n",
       "      <th>drybulb:2</th>\n",
       "      <th>wind_speed:2</th>\n",
       "      <th>wind_dir:2</th>\n",
       "      <th>drybulb:3</th>\n",
       "      <th>wind_speed:3</th>\n",
       "      <th>wind_dir:3</th>\n",
       "      <th>drybulb:4</th>\n",
       "      <th>...</th>\n",
       "      <th>wind_dir:3300</th>\n",
       "      <th>drybulb:3301</th>\n",
       "      <th>wind_speed:3301</th>\n",
       "      <th>wind_dir:3301</th>\n",
       "      <th>drybulb:3302</th>\n",
       "      <th>wind_speed:3302</th>\n",
       "      <th>wind_dir:3302</th>\n",
       "      <th>drybulb:3303</th>\n",
       "      <th>wind_speed:3303</th>\n",
       "      <th>wind_dir:3303</th>\n",
       "    </tr>\n",
       "  </thead>\n",
       "  <tbody>\n",
       "    <tr>\n",
       "      <th>0</th>\n",
       "      <td>27.180</td>\n",
       "      <td>0.014</td>\n",
       "      <td>356.846</td>\n",
       "      <td>27.180</td>\n",
       "      <td>0.014</td>\n",
       "      <td>356.846</td>\n",
       "      <td>27.180</td>\n",
       "      <td>0.014</td>\n",
       "      <td>356.846</td>\n",
       "      <td>27.180</td>\n",
       "      <td>...</td>\n",
       "      <td>266.255</td>\n",
       "      <td>26.884</td>\n",
       "      <td>0.028</td>\n",
       "      <td>270.939</td>\n",
       "      <td>26.061</td>\n",
       "      <td>0.020</td>\n",
       "      <td>224.428</td>\n",
       "      <td>26.762</td>\n",
       "      <td>0.010</td>\n",
       "      <td>285.170</td>\n",
       "    </tr>\n",
       "    <tr>\n",
       "      <th>1</th>\n",
       "      <td>25.175</td>\n",
       "      <td>0.009</td>\n",
       "      <td>0.068</td>\n",
       "      <td>25.175</td>\n",
       "      <td>0.009</td>\n",
       "      <td>0.068</td>\n",
       "      <td>25.175</td>\n",
       "      <td>0.009</td>\n",
       "      <td>0.068</td>\n",
       "      <td>25.175</td>\n",
       "      <td>...</td>\n",
       "      <td>249.655</td>\n",
       "      <td>25.834</td>\n",
       "      <td>0.019</td>\n",
       "      <td>231.409</td>\n",
       "      <td>24.770</td>\n",
       "      <td>0.015</td>\n",
       "      <td>83.512</td>\n",
       "      <td>25.270</td>\n",
       "      <td>0.023</td>\n",
       "      <td>230.355</td>\n",
       "    </tr>\n",
       "    <tr>\n",
       "      <th>2</th>\n",
       "      <td>23.671</td>\n",
       "      <td>0.004</td>\n",
       "      <td>347.859</td>\n",
       "      <td>23.671</td>\n",
       "      <td>0.004</td>\n",
       "      <td>347.859</td>\n",
       "      <td>23.671</td>\n",
       "      <td>0.004</td>\n",
       "      <td>347.859</td>\n",
       "      <td>23.671</td>\n",
       "      <td>...</td>\n",
       "      <td>183.004</td>\n",
       "      <td>26.597</td>\n",
       "      <td>0.329</td>\n",
       "      <td>181.754</td>\n",
       "      <td>22.955</td>\n",
       "      <td>0.216</td>\n",
       "      <td>90.107</td>\n",
       "      <td>25.200</td>\n",
       "      <td>0.219</td>\n",
       "      <td>125.456</td>\n",
       "    </tr>\n",
       "    <tr>\n",
       "      <th>3</th>\n",
       "      <td>23.914</td>\n",
       "      <td>0.011</td>\n",
       "      <td>190.953</td>\n",
       "      <td>23.914</td>\n",
       "      <td>0.011</td>\n",
       "      <td>190.953</td>\n",
       "      <td>23.914</td>\n",
       "      <td>0.011</td>\n",
       "      <td>190.953</td>\n",
       "      <td>23.914</td>\n",
       "      <td>...</td>\n",
       "      <td>185.479</td>\n",
       "      <td>26.935</td>\n",
       "      <td>0.381</td>\n",
       "      <td>177.588</td>\n",
       "      <td>23.636</td>\n",
       "      <td>0.282</td>\n",
       "      <td>83.839</td>\n",
       "      <td>25.333</td>\n",
       "      <td>0.233</td>\n",
       "      <td>117.696</td>\n",
       "    </tr>\n",
       "    <tr>\n",
       "      <th>4</th>\n",
       "      <td>24.072</td>\n",
       "      <td>0.009</td>\n",
       "      <td>217.414</td>\n",
       "      <td>24.072</td>\n",
       "      <td>0.009</td>\n",
       "      <td>217.414</td>\n",
       "      <td>24.072</td>\n",
       "      <td>0.009</td>\n",
       "      <td>217.414</td>\n",
       "      <td>24.072</td>\n",
       "      <td>...</td>\n",
       "      <td>249.582</td>\n",
       "      <td>25.006</td>\n",
       "      <td>0.132</td>\n",
       "      <td>185.392</td>\n",
       "      <td>24.691</td>\n",
       "      <td>0.179</td>\n",
       "      <td>74.695</td>\n",
       "      <td>24.421</td>\n",
       "      <td>0.187</td>\n",
       "      <td>148.726</td>\n",
       "    </tr>\n",
       "  </tbody>\n",
       "</table>\n",
       "<p>5 rows × 9909 columns</p>\n",
       "</div>"
      ],
      "text/plain": [
       "   drybulb:1  wind_speed:1  wind_dir:1  drybulb:2  wind_speed:2  wind_dir:2  \\\n",
       "0     27.180         0.014     356.846     27.180         0.014     356.846   \n",
       "1     25.175         0.009       0.068     25.175         0.009       0.068   \n",
       "2     23.671         0.004     347.859     23.671         0.004     347.859   \n",
       "3     23.914         0.011     190.953     23.914         0.011     190.953   \n",
       "4     24.072         0.009     217.414     24.072         0.009     217.414   \n",
       "\n",
       "   drybulb:3  wind_speed:3  wind_dir:3  drybulb:4  ...  wind_dir:3300  \\\n",
       "0     27.180         0.014     356.846     27.180  ...        266.255   \n",
       "1     25.175         0.009       0.068     25.175  ...        249.655   \n",
       "2     23.671         0.004     347.859     23.671  ...        183.004   \n",
       "3     23.914         0.011     190.953     23.914  ...        185.479   \n",
       "4     24.072         0.009     217.414     24.072  ...        249.582   \n",
       "\n",
       "   drybulb:3301  wind_speed:3301  wind_dir:3301  drybulb:3302  \\\n",
       "0        26.884            0.028        270.939        26.061   \n",
       "1        25.834            0.019        231.409        24.770   \n",
       "2        26.597            0.329        181.754        22.955   \n",
       "3        26.935            0.381        177.588        23.636   \n",
       "4        25.006            0.132        185.392        24.691   \n",
       "\n",
       "   wind_speed:3302  wind_dir:3302  drybulb:3303  wind_speed:3303  \\\n",
       "0            0.020        224.428        26.762            0.010   \n",
       "1            0.015         83.512        25.270            0.023   \n",
       "2            0.216         90.107        25.200            0.219   \n",
       "3            0.282         83.839        25.333            0.233   \n",
       "4            0.179         74.695        24.421            0.187   \n",
       "\n",
       "   wind_dir:3303  \n",
       "0        285.170  \n",
       "1        230.355  \n",
       "2        125.456  \n",
       "3        117.696  \n",
       "4        148.726  \n",
       "\n",
       "[5 rows x 9909 columns]"
      ]
     },
     "execution_count": 8,
     "metadata": {},
     "output_type": "execute_result"
    }
   ],
   "source": [
    "SCHEDULE_FILE_NAME = 'sf_97_2m_hvac_cfd_r2.csv' ## todo\n",
    "df_csv_result = pd.read_csv(os.path.join(scene_folder, \"run_time_inputs\", SCHEDULE_FILE_NAME), sep=',', encoding='UTF-8')\n",
    "df_csv_result.head()"
   ]
  },
  {
   "cell_type": "markdown",
   "metadata": {},
   "source": [
    "### map air node to CSV file name and column to write in IDF"
   ]
  },
  {
   "cell_type": "code",
   "execution_count": 10,
   "metadata": {},
   "outputs": [],
   "source": [
    "header_to_column_num = {}\n",
    "for i in range(34):\n",
    "    header_to_column_num[i] = {}\n",
    "    SCHEDULE_FILE_NAME = 'sf_97_2m_hvac_cfd_r2_' + str(i) + '.csv' ## todo\n",
    "    df_csv_result = pd.read_csv(os.path.join(scene_folder, \"run_time_inputs\", SCHEDULE_FILE_NAME), sep=',', encoding='UTF-8')\n",
    "    column_num = 2\n",
    "    key_list = list(df_csv_result.keys())\n",
    "    for key in key_list[1:]:\n",
    "        header_to_column_num[i][key] = column_num\n",
    "        column_num += 1\n",
    "# len(header_to_column_num[i])"
   ]
  },
  {
   "cell_type": "code",
   "execution_count": 8,
   "metadata": {},
   "outputs": [
    {
     "data": {
      "text/plain": [
       "{'drybulb:3301': 2,\n",
       " 'wind_speed:3301': 3,\n",
       " 'wind_dir:3301': 4,\n",
       " 'drybulb:3302': 5,\n",
       " 'wind_speed:3302': 6,\n",
       " 'wind_dir:3302': 7,\n",
       " 'drybulb:3303': 8,\n",
       " 'wind_speed:3303': 9,\n",
       " 'wind_dir:3303': 10}"
      ]
     },
     "execution_count": 8,
     "metadata": {},
     "output_type": "execute_result"
    }
   ],
   "source": [
    "header_to_column_num[33]"
   ]
  },
  {
   "cell_type": "markdown",
   "metadata": {},
   "source": [
    "## Write IDF files with local air nodes"
   ]
  },
  {
   "cell_type": "code",
   "execution_count": 11,
   "metadata": {},
   "outputs": [],
   "source": [
    "WORK_FOLDER_NAME = 'SF_100'\n",
    "BLDG_NAME_LIST = os.listdir(WORK_FOLDER_NAME)\n",
    "\n",
    "for bldg_name in BLDG_NAME_LIST:\n",
    "    input_file_path = os.path.join(WORK_FOLDER_NAME, bldg_name, 'model-1.idf')\n",
    "    output_file_path= os.path.join(WORK_FOLDER_NAME, bldg_name, 'model-wrf-2.idf') ## TODO\n",
    "    \n",
    "    if not os.path.exists(input_file_path):\n",
    "        continue\n",
    "        \n",
    "    ext_surfaces = list()\n",
    "    ext_win_surfaces = {}\n",
    "    \n",
    "    with open(input_file_path, 'r') as f:\n",
    "        idf = parseidf.parse(f.read())\n",
    "\n",
    "        for surface_detailed in idf['BuildingSurface:Detailed'.upper()]:\n",
    "            if surface_detailed[5] == 'Outdoors':\n",
    "                ext_surfaces.append(surface_detailed[1])\n",
    "        for surface_detailed in idf['FenestrationSurface:Detailed'.upper()]:\n",
    "            ext_win_surfaces[surface_detailed[1]] = surface_detailed[4]\n",
    "\n",
    "        idf['Schedule:File'.upper()] = list()\n",
    "\n",
    "        for surf_name in ext_surfaces:\n",
    "            for header in ['drybulb', 'wind_speed', 'wind_dir']:\n",
    "                wrf_id = surf_name_to_wrf_id[bldg_name + ':' + surf_name.replace(' ', '-')]\n",
    "                file_id = wrf_id // 100\n",
    "                if wrf_id % 100 == 0:\n",
    "                    file_id -= 1\n",
    "                file_name = '../../scene-json/run_time_inputs/sf_97_2m_hvac_cfd_r2_' + str(file_id) + '.csv' ## TODO\n",
    "                header_name = header + ':' + str(wrf_id)\n",
    "                column_num = header_to_column_num[file_id][header_name]\n",
    "                idf['Schedule:File'.upper()].append(['Schedule:File',\n",
    "                                                     surf_name + ':' + header, \n",
    "                                                     'Any Number',\n",
    "                                                     file_name, \n",
    "                                                     str(column_num), \n",
    "                                                     '1'])\n",
    "\n",
    "        idf['SurfaceProperty:LocalEnvironment'.upper()] = list()\n",
    "        idf['OutdoorAir:Node'.upper()] = list()\n",
    "\n",
    "        for surf_name in ext_surfaces:\n",
    "            idf['SurfaceProperty:LocalEnvironment'.upper()].append(['SurfaceProperty:LocalEnvironment',\n",
    "                                                                    'LocEnv:' + surf_name, \n",
    "                                                                    surf_name, \n",
    "                                                                    '',\n",
    "                                                                    '', \n",
    "                                                                    'OutdoorAirNode:' + surf_name])\n",
    "\n",
    "            loc_node_list = ['OutdoorAir:Node', \n",
    "                             'OutdoorAirNode:' + surf_name, \n",
    "                             '',\n",
    "                             surf_name + ':' + 'drybulb', \n",
    "                             '', \n",
    "                             surf_name + ':' + 'wind_speed', \n",
    "                             surf_name + ':' + 'wind_dir']\n",
    "            idf['OutdoorAir:Node'.upper()].append(loc_node_list)\n",
    "        \n",
    "        for surf_name in ext_win_surfaces:\n",
    "            base_surf_name = ext_win_surfaces[surf_name]\n",
    "            idf['SurfaceProperty:LocalEnvironment'.upper()].append(['SurfaceProperty:LocalEnvironment',\n",
    "                                                                    'LocEnv:' + surf_name, \n",
    "                                                                    surf_name, \n",
    "                                                                    '',\n",
    "                                                                    '', \n",
    "                                                                    'OutdoorAirNode:' + base_surf_name])\n",
    "            \n",
    "\n",
    "    with open(output_file_path, 'w') as out:\n",
    "        for idf_object_key in idf:\n",
    "            idf_objects = idf[idf_object_key]\n",
    "            for idf_object in idf_objects:\n",
    "                for attr_num in range(len(idf_object)):\n",
    "                    if attr_num == 0:\n",
    "                        out.write('  ' + str(idf_object[attr_num]) + ',\\n')\n",
    "                    elif attr_num == len(idf_object) - 1:\n",
    "                        out.write('    ' + str(idf_object[attr_num]) + ';\\n')\n",
    "                    else:\n",
    "                        out.write('    ' + str(idf_object[attr_num]) + ',\\n')\n",
    "                out.write('\\n')"
   ]
  },
  {
   "cell_type": "code",
   "execution_count": null,
   "metadata": {},
   "outputs": [],
   "source": []
  },
  {
   "cell_type": "code",
   "execution_count": null,
   "metadata": {},
   "outputs": [],
   "source": []
  }
 ],
 "metadata": {
  "kernelspec": {
   "display_name": "Python 3",
   "language": "python",
   "name": "python3"
  },
  "language_info": {
   "codemirror_mode": {
    "name": "ipython",
    "version": 3
   },
   "file_extension": ".py",
   "mimetype": "text/x-python",
   "name": "python",
   "nbconvert_exporter": "python",
   "pygments_lexer": "ipython3",
   "version": "3.8.3"
  },
  "toc": {
   "base_numbering": 1,
   "nav_menu": {},
   "number_sections": true,
   "sideBar": true,
   "skip_h1_title": false,
   "title_cell": "Table of Contents",
   "title_sidebar": "Contents",
   "toc_cell": false,
   "toc_position": {},
   "toc_section_display": true,
   "toc_window_display": false
  }
 },
 "nbformat": 4,
 "nbformat_minor": 2
}
